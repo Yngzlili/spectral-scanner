{
 "cells": [
  {
   "cell_type": "code",
   "execution_count": 1,
   "id": "230073c4-5b6d-410a-a9f3-87a8b13ab3c1",
   "metadata": {},
   "outputs": [],
   "source": [
    "import pyboard\n",
    "import time\n",
    "import json\n",
    "import numpy as np\n",
    "from pylab import *\n",
    "from tqdm import tqdm\n",
    "import os\n",
    "import pickle\n",
    "%matplotlib inline"
   ]
  },
  {
   "cell_type": "code",
   "execution_count": 2,
   "id": "7f3ac25e-9296-483f-afb1-da39aa017953",
   "metadata": {},
   "outputs": [],
   "source": [
    "def unPickle(filename):\n",
    "    '''\n",
    "    to shorten 3 lines into 1 line\n",
    "    '''\n",
    "    with open(filename,'rb') as f:\n",
    "        output = pickle.load(f)\n",
    "    f.close()\n",
    "    return output\n",
    "\n",
    "def makePickle(filename,data):\n",
    "    with open(filename,'wb') as f:\n",
    "        pickle.dump(data,f)\n",
    "    f.close()"
   ]
  },
  {
   "cell_type": "markdown",
   "id": "e34d1c4d-737b-4555-8b9b-1524fec9f474",
   "metadata": {},
   "source": [
    "## in Linux\n",
    "### find the USB-port for the EPS32"
   ]
  },
  {
   "cell_type": "code",
   "execution_count": 3,
   "id": "b82152f4-7a40-4bb7-a237-efb66ad86cba",
   "metadata": {},
   "outputs": [],
   "source": [
    "gc_cmd = ['import gc','gc.collect()']"
   ]
  },
  {
   "cell_type": "code",
   "execution_count": 4,
   "id": "540b619d-c4da-4927-a78e-fa05e76daf02",
   "metadata": {},
   "outputs": [
    {
     "name": "stdout",
     "output_type": "stream",
     "text": [
      "/dev/ttyUSB0\n"
     ]
    }
   ],
   "source": [
    "result = os.popen('ls -l /dev/ttyUSB*').read()\n",
    "result = result.strip('\\n').split(' ')\n",
    "port = result[-1]\n",
    "print(port)"
   ]
  },
  {
   "cell_type": "code",
   "execution_count": 5,
   "id": "7604ef1d-622e-4690-9f12-881746fea4cf",
   "metadata": {},
   "outputs": [],
   "source": [
    "def run_on_board(code, wait_s=0, no_print=False):\n",
    "    for ln in code:\n",
    "        res = pb.exec(ln)\n",
    "        if len(res) > 0 and not no_print:\n",
    "            res = res[:-2].decode()\n",
    "            print(res)\n",
    "    if wait_s > 0:\n",
    "        time.sleep(wait_s)        \n",
    "    return res        \n",
    "\n",
    "pb = None\n",
    "try:\n",
    "    pb = pyboard.Pyboard(port)\n",
    "    pb.enter_raw_repl()  \n",
    "except pyboard.PyboardError as e:\n",
    "    print(e)     "
   ]
  },
  {
   "cell_type": "code",
   "execution_count": 6,
   "id": "2431128f-9c8f-41af-8287-c02eb281c90e",
   "metadata": {},
   "outputs": [
    {
     "name": "stdout",
     "output_type": "stream",
     "text": [
      "c,_|Initializing ...\n",
      "Servo at pin 27 (50 Hz) ready.\n",
      "Servo at pin 33 (50 Hz) ready.\n",
      "c,_|Servo manager ready\n",
      "c,_|Spectrometer ready\n"
     ]
    }
   ],
   "source": [
    "script = [\n",
    "    'from scanner import Scanner',\n",
    "    'sc = Scanner(verbose=False)'\n",
    "]\n",
    "tmp = run_on_board(script, wait_s=0.4, no_print=False)"
   ]
  },
  {
   "cell_type": "code",
   "execution_count": 7,
   "id": "76ac13da-92f2-4f9a-a9f3-1850bed9a49a",
   "metadata": {},
   "outputs": [],
   "source": [
    "dx,dy= (80,80)       # Dimension of the image\n",
    "sx,sy = (2,2)          # Step size in [°]\n",
    "nPix = (dx//sx+1)*(dy//sy+1)\n",
    "tInt_s = 0.005      # Integration time in seconds\n",
    "fname = \"\"          # File name, keep empty if only temporary\n",
    "\n",
    "header = {}\n",
    "wavelengths_nm = None\n",
    "\n",
    "s = \"({0},{1}), ({2},{3}), {4},{5}\".format(dx, dy, sx, sy, tInt_s,1)"
   ]
  },
  {
   "cell_type": "code",
   "execution_count": 8,
   "id": "82ce9694-6e57-4f7d-be7d-c1deca29412f",
   "metadata": {
    "scrolled": true
   },
   "outputs": [
    {
     "data": {
      "text/plain": [
       "'(80,80), (2,2), 0.005,1'"
      ]
     },
     "execution_count": 8,
     "metadata": {},
     "output_type": "execute_result"
    }
   ],
   "source": [
    "s"
   ]
  },
  {
   "cell_type": "code",
   "execution_count": 9,
   "id": "ba9b8057-3777-42c7-8864-9e146b441d3c",
   "metadata": {},
   "outputs": [],
   "source": [
    "def update_header(header_dict):\n",
    "    year = time.localtime().tm_year\n",
    "    month = time.localtime().tm_mon\n",
    "    day = time.localtime().tm_mday\n",
    "    hour = time.localtime().tm_hour\n",
    "    mins = time.localtime().tm_min\n",
    "    sec = time.localtime().tm_sec\n",
    "    header_dict['date_yyyymmdd'] = [year,month,day]\n",
    "    header_dict['time_hhmmss'] = [hour,mins,sec]\n",
    "    file_name = '{}-{}-{}_{}:{}:{}'.format(year,month,day,hour,mins,sec)\n",
    "    return header_dict,file_name"
   ]
  },
  {
   "cell_type": "markdown",
   "id": "29ca1819-ff47-40a4-9d29-915af1e0dbd1",
   "metadata": {},
   "source": [
    "### scan loop"
   ]
  },
  {
   "cell_type": "code",
   "execution_count": 10,
   "id": "f03b6bc7-0bd3-449c-86d4-dd86d28255c7",
   "metadata": {},
   "outputs": [],
   "source": [
    "time_lapse = 600 # unit in second "
   ]
  },
  {
   "cell_type": "code",
   "execution_count": 11,
   "id": "ef81faaf-5c52-4ce5-9dd3-176d9c672eb9",
   "metadata": {
    "scrolled": true
   },
   "outputs": [
    {
     "name": "stdout",
     "output_type": "stream",
     "text": [
      "target pos [0, 0],dt_ms 1000\n"
     ]
    }
   ],
   "source": [
    "tmp = run_on_board(['sc.moveTo([0,0])'])"
   ]
  },
  {
   "cell_type": "code",
   "execution_count": 12,
   "id": "8b7fe6ca-1557-4458-bc5c-7466f20384bc",
   "metadata": {
    "scrolled": true
   },
   "outputs": [
    {
     "name": "stdout",
     "output_type": "stream",
     "text": [
      "(80,80), (2,2), 0.005,1\n"
     ]
    },
    {
     "name": "stderr",
     "output_type": "stream",
     "text": [
      "100%|███████████████████████████████████████| 1681/1681 [07:48<00:00,  3.59it/s]\n"
     ]
    },
    {
     "ename": "KeyboardInterrupt",
     "evalue": "",
     "output_type": "error",
     "traceback": [
      "\u001b[0;31m---------------------------------------------------------------------------\u001b[0m",
      "\u001b[0;31mKeyboardInterrupt\u001b[0m                         Traceback (most recent call last)",
      "Cell \u001b[0;32mIn[12], line 46\u001b[0m\n\u001b[1;32m     44\u001b[0m header[\u001b[38;5;124m'\u001b[39m\u001b[38;5;124mwavelengths_nm\u001b[39m\u001b[38;5;124m'\u001b[39m]\u001b[38;5;241m=\u001b[39mwavelengths_nm\n\u001b[1;32m     45\u001b[0m makePickle(\u001b[38;5;124m'\u001b[39m\u001b[38;5;124m./recording/header&SpecImg_\u001b[39m\u001b[38;5;132;01m{}\u001b[39;00m\u001b[38;5;124m.pkl\u001b[39m\u001b[38;5;124m'\u001b[39m\u001b[38;5;241m.\u001b[39mformat(f_name),header)\n\u001b[0;32m---> 46\u001b[0m \u001b[43mtime\u001b[49m\u001b[38;5;241;43m.\u001b[39;49m\u001b[43msleep\u001b[49m\u001b[43m(\u001b[49m\u001b[38;5;241;43m600\u001b[39;49m\u001b[43m)\u001b[49m\n",
      "\u001b[0;31mKeyboardInterrupt\u001b[0m: "
     ]
    }
   ],
   "source": [
    "while True:\n",
    "    header = {}\n",
    "    wavelengths_nm = None\n",
    "    \n",
    "    tmp = run_on_board(gc_cmd)\n",
    "    hour = time.localtime().tm_hour\n",
    "    tInt_s = 0.005\n",
    "    if hour in [21,6,7]:\n",
    "        tInt_s = 0.01\n",
    "    if hour in [22,23,5]:\n",
    "        tInt_s = 0.05\n",
    "    if hour in [0,1,2,3,4]:\n",
    "        tInt_s = 0.1\n",
    "    s = \"({0},{1}), ({2},{3}), {4},{5}\".format(dx, dy,sx,sy, tInt_s,1)\n",
    "    print(s)\n",
    "    tmp = run_on_board(['sc.setupScan(\"\", {0})'.format(s)], no_print=True)\n",
    "    tmpList = tmp.decode().split(\"\\r\\n\")\n",
    "    \n",
    "    for ln in tmpList:\n",
    "        if len(ln.split(\"|\")) > 1:\n",
    "            output = ln.split(\"|\")[1].replace(\"\\'\", \"\\\"\")\n",
    "            if ln[0] == \"c\":\n",
    "                # This is a comment, ignore\n",
    "                pass\n",
    "            elif ln[0] == \"w\":\n",
    "                # Extract wavelengths\n",
    "                wavelengths_nm = np.array(json.loads(output)[\"wavelength_nm\"])\n",
    "            elif ln[0] == \"h\":    \n",
    "                # Extract header information\n",
    "                header.update(json.loads(output))\n",
    "            else:    \n",
    "                pass\n",
    "\n",
    "    header,f_name = update_header(header)\n",
    "    SpectImg = np.zeros(((dx//sx+1)*(dy//sy+1), header[\"n_spect\"]))\n",
    "    for iPix in tqdm(range(nPix)):\n",
    "        tmp = run_on_board([\"sc.scanNext()\"], no_print=True)\n",
    "        ln = tmp.decode().split(\"\\r\\n\")[1].split(\"|\")\n",
    "        if len(ln) > 1:\n",
    "            s = ln[1].replace(\"\\'\", \"\\\"\");d = json.loads(s)\n",
    "        SpectImg[iPix] = d[\"spect_au\"]\n",
    "\n",
    "    header['SpectImg'] = SpectImg\n",
    "    header['wavelengths_nm']=wavelengths_nm\n",
    "    makePickle('./recording/header&SpecImg_{}.pkl'.format(f_name),header)\n",
    "    time.sleep(600)"
   ]
  },
  {
   "cell_type": "code",
   "execution_count": 13,
   "id": "0b77999e-2ebb-4efd-ba8a-16c48da07807",
   "metadata": {},
   "outputs": [
    {
     "name": "stdout",
     "output_type": "stream",
     "text": [
      "target pos [0, 0],dt_ms 1000\n"
     ]
    }
   ],
   "source": [
    "tmp = run_on_board(['sc.moveTo([0,0])'],wait_s=0.4, no_print=False)"
   ]
  },
  {
   "cell_type": "markdown",
   "id": "d02366d4-0618-485c-ab85-ac5ba14394f4",
   "metadata": {},
   "source": [
    "## visualization area"
   ]
  },
  {
   "cell_type": "code",
   "execution_count": 28,
   "id": "73369042-aa72-4084-b452-5cf7c04f940f",
   "metadata": {},
   "outputs": [],
   "source": [
    "test = unPickle('./recording/header&SpecImg_2024-5-31_10:50:4.pkl')"
   ]
  },
  {
   "cell_type": "code",
   "execution_count": 29,
   "id": "352416ad-93c3-45d6-b5f0-ef29ab2901ef",
   "metadata": {},
   "outputs": [
    {
     "data": {
      "text/plain": [
       "{'file_version': 1,\n",
       " 'date_yyyymmdd': [2024, 5, 31],\n",
       " 'time_hhmmss': [10, 50, 4],\n",
       " 'step_xy_deg': [2, 2],\n",
       " 'n_spect': 288,\n",
       " 'size_xy': [80, 80],\n",
       " 't_int_s': 0.005,\n",
       " 'SpectImg': array([[ 233.,  210.,  209., ...,  336.,  343.,  325.],\n",
       "        [ 289.,  276.,  276., ...,  592.,  591.,  576.],\n",
       "        [ 797.,  797.,  786., ..., 2927., 2892., 2825.],\n",
       "        ...,\n",
       "        [ 220.,  208.,  217., ...,  336.,  349.,  325.],\n",
       "        [ 235.,  230.,  225., ...,  303.,  305.,  299.],\n",
       "        [ 217.,  212.,  213., ...,  347.,  356.,  336.]]),\n",
       " 'wavelengths_nm': array([317.    , 320.    , 323.    , 325.    , 328.    , 331.    ,\n",
       "        334.    , 336.    , 339.    , 342.    , 344.    , 347.    ,\n",
       "        350.    , 352.    , 355.    , 357.    , 360.    , 363.    ,\n",
       "        365.    , 368.    , 371.    , 373.    , 376.    , 379.    ,\n",
       "        381.    , 384.    , 386.    , 389.    , 392.    , 394.    ,\n",
       "        397.    , 400.    , 402.    , 405.    , 407.    , 410.    ,\n",
       "        413.    , 415.    , 418.    , 420.    , 423.    , 425.    ,\n",
       "        428.    , 431.    , 433.    , 436.    , 438.    , 441.    ,\n",
       "        443.    , 446.    , 448.    , 451.    , 453.    , 456.    ,\n",
       "        458.    , 461.    , 463.    , 466.    , 468.    , 471.    ,\n",
       "        473.    , 476.    , 478.    , 481.    , 483.    , 486.    ,\n",
       "        488.    , 491.    , 493.    , 495.    , 498.    , 500.    ,\n",
       "        503.    , 505.    , 508.    , 510.    , 512.    , 515.    ,\n",
       "        517.    , 520.    , 522.    , 524.    , 527.    , 529.    ,\n",
       "        531.    , 534.    , 536.    , 539.    , 541.    , 543.    ,\n",
       "        546.    , 548.    , 550.    , 553.    , 555.    , 557.    ,\n",
       "        559.    , 562.    , 564.    , 566.    , 569.    , 571.    ,\n",
       "        573.    , 575.    , 578.    , 580.    , 582.    , 584.    ,\n",
       "        587.    , 589.    , 591.    , 593.    , 595.    , 598.    ,\n",
       "        600.    , 602.    , 604.    , 606.    , 608.    , 611.    ,\n",
       "        613.    , 615.    , 617.    , 619.    , 621.    , 623.    ,\n",
       "        626.    , 628.    , 630.    , 632.    , 634.    , 636.    ,\n",
       "        638.    , 640.    , 642.    , 644.    , 646.    , 649.    ,\n",
       "        651.    , 653.    , 655.    , 657.    , 659.    , 661.    ,\n",
       "        663.    , 665.    , 667.    , 669.    , 671.    , 673.    ,\n",
       "        675.    , 677.    , 679.    , 680.    , 682.    , 684.    ,\n",
       "        686.    , 688.    , 690.    , 692.    , 694.    , 696.    ,\n",
       "        698.    , 700.    , 701.    , 703.    , 705.    , 707.    ,\n",
       "        709.    , 711.    , 713.    , 714.    , 716.    , 718.    ,\n",
       "        720.    , 722.    , 724.    , 725.    , 727.    , 729.    ,\n",
       "        731.    , 732.    , 734.    , 736.    , 738.    , 740.    ,\n",
       "        741.    , 743.    , 745.    , 746.    , 748.    , 750.    ,\n",
       "        752.    , 753.    , 755.    , 757.    , 758.    , 760.    ,\n",
       "        762.    , 763.    , 765.    , 767.    , 768.    , 770.    ,\n",
       "        772.    , 773.    , 775.    , 776.    , 778.    , 780.    ,\n",
       "        781.    , 783.    , 784.    , 786.    , 787.    , 789.    ,\n",
       "        791.    , 792.    , 794.    , 795.    , 797.    , 798.    ,\n",
       "        800.    , 801.    , 803.    , 804.    , 805.9999, 807.    ,\n",
       "        809.    , 809.9999, 812.    , 813.    , 815.    , 816.    ,\n",
       "        817.9999, 819.    , 820.    , 822.    , 823.    , 825.    ,\n",
       "        826.    , 828.    , 829.    , 830.    , 832.    , 833.    ,\n",
       "        834.    , 836.    , 837.    , 838.9999, 840.    , 841.    ,\n",
       "        842.9999, 844.    , 845.    , 847.    , 848.    , 849.    ,\n",
       "        851.    , 852.    , 853.    , 854.    , 855.9999, 857.    ,\n",
       "        858.    , 859.9999, 861.    , 862.    , 863.    , 865.    ,\n",
       "        866.    , 867.    , 867.9999, 870.    , 871.    , 872.    ,\n",
       "        873.    , 874.    , 876.    , 877.    , 878.    , 879.    ,\n",
       "        880.    , 882.    , 883.    , 884.    , 884.9999, 886.    ])}"
      ]
     },
     "execution_count": 29,
     "metadata": {},
     "output_type": "execute_result"
    }
   ],
   "source": [
    "test"
   ]
  },
  {
   "cell_type": "code",
   "execution_count": 31,
   "id": "09edf217-728d-47af-8389-a74bf01311af",
   "metadata": {},
   "outputs": [],
   "source": [
    "def uppack_header(header_dict):\n",
    "    sx,sy = test['step_xy_deg']\n",
    "    SpectImg = test['SpectImg']\n",
    "    n_spect = test['n_spect']\n",
    "    dx,dy = test['size_xy']\n",
    "    t_int_s = test['t_int_s']\n",
    "    wavelengths_nm = test['wavelengths_nm']\n",
    "    return sx,sy,n_spect,dx,dy,t_int_s,SpectImg,wavelengths_nm"
   ]
  },
  {
   "cell_type": "code",
   "execution_count": 33,
   "id": "fe0b37bd-8dc8-4a49-9b00-c3528901e68c",
   "metadata": {},
   "outputs": [],
   "source": [
    "sx,sy,n_spect,dx,dy,t_int_s,SpectImg,wavelengths_nm = uppack_header(test)"
   ]
  },
  {
   "cell_type": "code",
   "execution_count": 34,
   "id": "3bd25709-a1e0-488c-958f-82465d4d393d",
   "metadata": {},
   "outputs": [],
   "source": [
    "SpectImg = SpectImg.reshape((dy//sy+1,dx//sx+1,n_spect))"
   ]
  },
  {
   "cell_type": "markdown",
   "id": "59265160-63cc-4879-8544-b9b40ee97417",
   "metadata": {},
   "source": [
    "#### mono veresion"
   ]
  },
  {
   "cell_type": "code",
   "execution_count": 35,
   "id": "5c471690-6412-4ff5-9276-c630a61558f9",
   "metadata": {},
   "outputs": [
    {
     "data": {
      "image/png": "[encoded data removed]",
      "text/plain": [
       "<Figure size 900x300 with 1 Axes>"
      ]
     },
     "metadata": {},
     "output_type": "display_data"
    }
   ],
   "source": [
    "imgMono = np.zeros((dy//sy+1,dx//sx+1,3))\n",
    "img = np.trapz(SpectImg)\n",
    "img /= img.max()\n",
    "for iCh in range(3):\n",
    "    imgMono[:,:,iCh] = img.reshape((dy//sy+1,dx//sx+1))\n",
    "    \n",
    "fig, (ax1) = plt.subplots(1, 1, figsize=(9,3))\n",
    "im1 = ax1.imshow(imgMono)    "
   ]
  },
  {
   "cell_type": "code",
   "execution_count": 36,
   "id": "d2109af7-f9a0-4449-9893-4bd8601c6d66",
   "metadata": {},
   "outputs": [],
   "source": [
    "SpectImgN = np.copy(SpectImg)\n",
    "SpectImgN -= SpectImg.min()\n",
    "SpectImgN /= SpectImg.max()"
   ]
  },
  {
   "cell_type": "code",
   "execution_count": 37,
   "id": "7f64ea68-534c-4a6e-8496-71a7a03a6a14",
   "metadata": {},
   "outputs": [
    {
     "ename": "NameError",
     "evalue": "name 'nan2zero' is not defined",
     "output_type": "error",
     "traceback": [
      "\u001b[0;31m---------------------------------------------------------------------------\u001b[0m",
      "\u001b[0;31mNameError\u001b[0m                                 Traceback (most recent call last)",
      "Cell \u001b[0;32mIn[37], line 4\u001b[0m\n\u001b[1;32m      1\u001b[0m opsin_nm \u001b[38;5;241m=\u001b[39m np\u001b[38;5;241m.\u001b[39mload(\u001b[38;5;124m\"\u001b[39m\u001b[38;5;124mopsins/wavelengths_nm.npz\u001b[39m\u001b[38;5;124m\"\u001b[39m)[\u001b[38;5;124m\"\u001b[39m\u001b[38;5;124mnm\u001b[39m\u001b[38;5;124m\"\u001b[39m]\n\u001b[1;32m      2\u001b[0m tempData \u001b[38;5;241m=\u001b[39m np\u001b[38;5;241m.\u001b[39mload(\u001b[38;5;124m\"\u001b[39m\u001b[38;5;124mopsins/human_SML.npz\u001b[39m\u001b[38;5;124m\"\u001b[39m)\n\u001b[0;32m----> 4\u001b[0m opsin_hSI \u001b[38;5;241m=\u001b[39m np\u001b[38;5;241m.\u001b[39minterp(wavelengths_nm, opsin_nm, \u001b[43mnan2zero\u001b[49m(tempData[\u001b[38;5;124m\"\u001b[39m\u001b[38;5;124ms\u001b[39m\u001b[38;5;124m\"\u001b[39m]))\n\u001b[1;32m      5\u001b[0m opsin_hMI \u001b[38;5;241m=\u001b[39m np\u001b[38;5;241m.\u001b[39minterp(wavelengths_nm, opsin_nm, nan2zero(tempData[\u001b[38;5;124m\"\u001b[39m\u001b[38;5;124mm\u001b[39m\u001b[38;5;124m\"\u001b[39m]))\n\u001b[1;32m      6\u001b[0m opsin_hLI \u001b[38;5;241m=\u001b[39m np\u001b[38;5;241m.\u001b[39minterp(wavelengths_nm, opsin_nm, nan2zero(tempData[\u001b[38;5;124m\"\u001b[39m\u001b[38;5;124ml\u001b[39m\u001b[38;5;124m\"\u001b[39m]))\n",
      "\u001b[0;31mNameError\u001b[0m: name 'nan2zero' is not defined"
     ]
    }
   ],
   "source": [
    "opsin_nm = np.load(\"opsins/wavelengths_nm.npz\")[\"nm\"]\n",
    "tempData = np.load(\"opsins/human_SML.npz\")\n",
    "\n",
    "opsin_hSI = np.interp(wavelengths_nm, opsin_nm, nan2zero(tempData[\"s\"]))\n",
    "opsin_hMI = np.interp(wavelengths_nm, opsin_nm, nan2zero(tempData[\"m\"]))\n",
    "opsin_hLI = np.interp(wavelengths_nm, opsin_nm, nan2zero(tempData[\"l\"]))\n",
    "\n",
    "plot(wavelengths_nm, opsin_hSI, \"b\")\n",
    "plot(wavelengths_nm, opsin_hMI, \"g\")\n",
    "plot(wavelengths_nm, opsin_hLI, \"r\")\n",
    "plot(wavelengths_nm, SpectImgN[0,0])\n",
    "ylabel(\"intensity or sensitivity, norm.\")\n",
    "xlabel(\"[nm]\")"
   ]
  },
  {
   "cell_type": "code",
   "execution_count": 38,
   "id": "0c7ff024-b162-4cab-ac57-6c380b954a7c",
   "metadata": {},
   "outputs": [
    {
     "ename": "NameError",
     "evalue": "name 'opsin_hSI' is not defined",
     "output_type": "error",
     "traceback": [
      "\u001b[0;31m---------------------------------------------------------------------------\u001b[0m",
      "\u001b[0;31mNameError\u001b[0m                                 Traceback (most recent call last)",
      "Cell \u001b[0;32mIn[38], line 4\u001b[0m\n\u001b[1;32m      1\u001b[0m dx, dy, n \u001b[38;5;241m=\u001b[39m SpectImg\u001b[38;5;241m.\u001b[39mshape\n\u001b[1;32m      2\u001b[0m imgRGB \u001b[38;5;241m=\u001b[39m np\u001b[38;5;241m.\u001b[39mzeros((dx, dy, \u001b[38;5;241m3\u001b[39m))\n\u001b[0;32m----> 4\u001b[0m s \u001b[38;5;241m=\u001b[39m \u001b[43mopsin_hSI\u001b[49m \u001b[38;5;241m*\u001b[39mSpectImgN\n\u001b[1;32m      5\u001b[0m img_s \u001b[38;5;241m=\u001b[39m np\u001b[38;5;241m.\u001b[39mtrapz(s)\n\u001b[1;32m      6\u001b[0m imgRGB[:,:,\u001b[38;5;241m0\u001b[39m] \u001b[38;5;241m=\u001b[39m img_s \u001b[38;5;241m/\u001b[39mimg_s\u001b[38;5;241m.\u001b[39mmax()\n",
      "\u001b[0;31mNameError\u001b[0m: name 'opsin_hSI' is not defined"
     ]
    }
   ],
   "source": [
    "dx, dy, n = SpectImg.shape\n",
    "imgRGB = np.zeros((dx, dy, 3))\n",
    "\n",
    "s = opsin_hSI *SpectImgN\n",
    "img_s = np.trapz(s)\n",
    "imgRGB[:,:,0] = img_s /img_s.max()\n",
    "m = opsin_hMI *SpectImgN\n",
    "img_m = np.trapz(m)\n",
    "imgRGB[:,:,1] = img_m /img_m.max()\n",
    "l = opsin_hLI *SpectImgN\n",
    "img_l = np.trapz(l)\n",
    "imgRGB[:,:,2] = img_l /img_l.max()\n",
    "\n",
    "#img /= img.max()\n",
    "fig, (ax1) = plt.subplots(1, 1, figsize=(9,3))\n",
    "im1 = ax1.imshow(imgRGB)    "
   ]
  },
  {
   "cell_type": "code",
   "execution_count": null,
   "id": "e44bdd33-b2cc-4d04-bf4b-2f6757bda45d",
   "metadata": {},
   "outputs": [],
   "source": []
  }
 ],
 "metadata": {
  "kernelspec": {
   "display_name": "Python 3 (ipykernel)",
   "language": "python",
   "name": "python3"
  },
  "language_info": {
   "codemirror_mode": {
    "name": "ipython",
    "version": 3
   },
   "file_extension": ".py",
   "mimetype": "text/x-python",
   "name": "python",
   "nbconvert_exporter": "python",
   "pygments_lexer": "ipython3",
   "version": "3.10.12"
  }
 },
 "nbformat": 4,
 "nbformat_minor": 5
}
