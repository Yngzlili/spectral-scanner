{
 "cells": [
  {
   "cell_type": "markdown",
   "metadata": {},
   "source": [
    "## Spectral scanner device test\n",
    "Simple notebook to test the different components of the spectral scanner. The script assumes that the components are connected to a ESP32 microcontroller ([HUZZAH32](https://www.adafruit.com/product/3405)) running [MicroPython](https://micropython.org/).\n",
    "The notebook uses [`pyboard.py`](https://docs.micropython.org/en/latest/reference/pyboard.py.html), a library that allows running MicroPython code via USB and [REPL](https://docs.micropython.org/en/latest/wipy/tutorial/repl.html) on the microcontroller.\n",
    "\n",
    "The following tests are included:\n",
    "\n",
    "   - Reading spectral data from the C12880MA breakout\n",
    "   - Reading heading, pitch and roll (in [°]) from the compass breakout (CMPS12)\n",
    "   - Move servos"
   ]
  },
  {
   "cell_type": "code",
   "execution_count": null,
   "metadata": {},
   "outputs": [],
   "source": [
    "import pyboard\n",
    "import time\n",
    "import json\n",
    "import numpy as np\n",
    "from pylab import *\n",
    "from matplotlib.animation import FuncAnimation\n",
    "\n",
    "pb = None\n",
    "%matplotlib inline"
   ]
  },
  {
   "cell_type": "markdown",
   "metadata": {},
   "source": [
    "Generate a pyboard object on the COM port connected to the ESP32 (here `COM3`)"
   ]
  },
  {
   "cell_type": "code",
   "execution_count": null,
   "metadata": {},
   "outputs": [],
   "source": [
    "if pb is None:\n",
    "    try:\n",
    "        pb = pyboard.Pyboard(\"COM3\")\n",
    "    except pyboard.PyboardError as e:\n",
    "        print(e)     "
   ]
  },
  {
   "cell_type": "markdown",
   "metadata": {},
   "source": [
    "Enter REPL mode; the MicroPython \"shell\" is now ready to receive commands"
   ]
  },
  {
   "cell_type": "code",
   "execution_count": null,
   "metadata": {},
   "outputs": [],
   "source": [
    "pb.enter_raw_repl()   "
   ]
  },
  {
   "cell_type": "markdown",
   "metadata": {},
   "source": [
    "Define a function that runs the code contained in a list of strings on the ESP32. By default, it does not print any text coming from the microcontroller into the history. The function returns the output of the last command as a string."
   ]
  },
  {
   "cell_type": "code",
   "execution_count": null,
   "metadata": {},
   "outputs": [],
   "source": [
    "def run_on_board(code, wait_s=0, no_print=False):\n",
    "    for ln in code:\n",
    "        res = pb.exec(ln)\n",
    "        if len(res) > 0 and not no_print:\n",
    "            res = res[:-2].decode()\n",
    "            print(res)\n",
    "    if wait_s > 0:\n",
    "        time.sleep(wait_s)        \n",
    "    return res    "
   ]
  },
  {
   "cell_type": "markdown",
   "metadata": {},
   "source": [
    "### C12880MA spectrometer\n",
    "\n",
    "The following script is run on the ESP32: it import the C12880MA chip driver and generates a C12880MA by passing the pins to which it is connected. Then it initializes the driver and sets the integration time (in [s]). The script returns a list of wavelengths (in [nm]) at which the spectrometer chip performs the measurements.\n",
    "As `run_on_board` returns a string, the `json` library is used to convert it to a Python list."
   ]
  },
  {
   "cell_type": "code",
   "execution_count": null,
   "metadata": {},
   "outputs": [],
   "source": [
    "script = [\n",
    "    'from driver.c12880ma import C12880MA',\n",
    "    'import board',\n",
    "    'sp = C12880MA(trg=board.TRG, st=board.STA, clk=board.CLK, video=board.VID)',\n",
    "    'sp.begin()',\n",
    "    'sp.setIntegrationTime_s(0.01)',\n",
    "    'print(list(sp.wavelengths))'\n",
    "]\n",
    "nm = json.loads(run_on_board(script, wait_s=0.4, no_print=True))"
   ]
  },
  {
   "cell_type": "markdown",
   "metadata": {},
   "source": [
    "Here is a picture of the test circuit:\n",
    "\n",
    "<p align=\"center\">\n",
    "  <img width=\"720\" src=\"https://github.com/eulerlab/spectral-scanner/blob/main/pics/Wiring_c12880_test.png?raw=true\"></img>\n",
    "</p>"
   ]
  },
  {
   "cell_type": "markdown",
   "metadata": {},
   "source": [
    "Define a function that reads a spectrum from the C12880MA chip and returns it as a list."
   ]
  },
  {
   "cell_type": "code",
   "execution_count": null,
   "metadata": {},
   "outputs": [],
   "source": [
    "def get_spectrum():\n",
    "    script = [\n",
    "        'sp.read()',\n",
    "        'print(list(sp.spectrum))'\n",
    "    ]\n",
    "    raw = json.loads(run_on_board(script, no_print=True))\n",
    "    return raw"
   ]
  },
  {
   "cell_type": "markdown",
   "metadata": {},
   "source": [
    "Finally, test the functionality: Read a new spectrum (`data`) and plot it as a function of wavelength (`nm`). "
   ]
  },
  {
   "cell_type": "code",
   "execution_count": null,
   "metadata": {
    "scrolled": true
   },
   "outputs": [],
   "source": [
    "data = get_spectrum()\n",
    "plot(nm, data)\n",
    "ylabel(\"[au]\")\n",
    "xlabel(\"[nm]\")\n",
    "ylim(0,4095)"
   ]
  },
  {
   "cell_type": "code",
   "execution_count": null,
   "metadata": {},
   "outputs": [],
   "source": [
    "%matplotlib notebook\n",
    "\n",
    "nrepeats = 50\n",
    "\n",
    "fig, ax1 = plt.subplots(1,1, figsize=(6,3))\n",
    "line, = ax1.plot(nm, data)\n",
    "ylabel(\"[au]\")\n",
    "xlabel(\"[nm]\")\n",
    "ylim(0,4095)\n",
    "\n",
    "def update(i):\n",
    "    data = get_spectrum()\n",
    "    line.set_ydata(data)\n",
    "    return line,\n",
    "\n",
    "ani1 = FuncAnimation(fig, update, interval=1, blit=True)\n",
    "plt.show()"
   ]
  },
  {
   "cell_type": "markdown",
   "metadata": {},
   "source": [
    "### CMPS12 tilt-compensated compass module\n",
    "\n",
    "Read heading, pitch and roll from the compass breakout (connected via the I2C bus)"
   ]
  },
  {
   "cell_type": "code",
   "execution_count": null,
   "metadata": {},
   "outputs": [],
   "source": [
    "script = [\n",
    "    'from driver.busio import I2CBus',\n",
    "    'from driver.compass_cmps12 import Compass',\n",
    "    'i2c = I2CBus(board.I2C_FRQ, board.SCL, board.SDA, code=0)',\n",
    "    'compass = Compass(i2c)'\n",
    "]\n",
    "_ = run_on_board(script, wait_s=0.4, no_print=False)"
   ]
  },
  {
   "cell_type": "code",
   "execution_count": null,
   "metadata": {},
   "outputs": [],
   "source": [
    "for i in range(10):\n",
    "    errC, head, pitch, roll = json.loads(run_on_board(['print(list(compass.getHeading3D()))'], no_print=True))\n",
    "    print(\"heading={0:.0f}°, pitch={1}°, roll={2}°\".format(head, pitch, roll))\n",
    "    time.sleep(1.0)"
   ]
  },
  {
   "cell_type": "markdown",
   "metadata": {},
   "source": [
    "### Servos\n",
    "\n",
    "Move servos connected to pins `board.SERVO_PAN` and `board.SERVO_TLT`."
   ]
  },
  {
   "cell_type": "code",
   "execution_count": null,
   "metadata": {},
   "outputs": [],
   "source": [
    "script = [\n",
    "    'import time',\n",
    "    'import board',\n",
    "    'from driver.servo import Servo',\n",
    "    'servoPan = Servo(board.SERVO_PAN, us_range=board.PAN_RANGE_US, \\\n",
    "                      ang_range=board.PAN_RANGE_DEG, verbose=True)',\n",
    "    'servoTlt = Servo(board.SERVO_TLT, us_range=board.TLT_RANGE_US, \\\n",
    "                      ang_range=board.TLT_RANGE_DEG, verbose=True)'\n",
    "]\n",
    "_ = run_on_board(script, wait_s=0.4, no_print=False)"
   ]
  },
  {
   "cell_type": "code",
   "execution_count": null,
   "metadata": {},
   "outputs": [],
   "source": [
    "for i in range(3):\n",
    "    run_on_board(['servoPan.angle = 0', \\\n",
    "                  'servoTlt.angle = 0'], no_print=True)\n",
    "    time.sleep(1.0)\n",
    "    run_on_board(['servoPan.angle =-60', \\\n",
    "                  'servoTlt.angle =+60'], no_print=True)\n",
    "    time.sleep(1.0)\n",
    "    run_on_board(['servoPan.angle = +60', \\\n",
    "                  'servoTlt.angle = -60'], no_print=True)\n",
    "    time.sleep(1.0)\n",
    "\n",
    "_ = run_on_board(['servoPan.angle = 0', \\\n",
    "                  'servoTlt.angle = 0'], no_print=True)"
   ]
  },
  {
   "cell_type": "code",
   "execution_count": null,
   "metadata": {},
   "outputs": [],
   "source": [
    "board.PAN_RANGE_US\n"
   ]
  },
  {
   "cell_type": "code",
   "execution_count": null,
   "metadata": {},
   "outputs": [],
   "source": []
  }
 ],
 "metadata": {
  "kernelspec": {
   "display_name": "Python 3",
   "language": "python",
   "name": "python3"
  },
  "language_info": {
   "codemirror_mode": {
    "name": "ipython",
    "version": 3
   },
   "file_extension": ".py",
   "mimetype": "text/x-python",
   "name": "python",
   "nbconvert_exporter": "python",
   "pygments_lexer": "ipython3",
   "version": "3.8.3"
  }
 },
 "nbformat": 4,
 "nbformat_minor": 4
}
